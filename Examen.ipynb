{
 "cells": [
  {
   "cell_type": "markdown",
   "metadata": {},
   "source": [
    "# <img src=\"ups.png\">\n",
    "\n",
    "### Nombre: Fanny Gutama\n",
    "### Docente: Ing. Diego Quisi\n",
    "\n",
    "\n",
    "# <div align=\"center\"> Examen\n"
   ]
  },
  {
   "cell_type": "markdown",
   "metadata": {},
   "source": [
    "# Objetivo:"
   ]
  },
  {
   "cell_type": "markdown",
   "metadata": {},
   "source": [
    "Consolidar los conocimientos adquiridos en clase para desarrollar simulaciones de eventos."
   ]
  },
  {
   "cell_type": "markdown",
   "metadata": {},
   "source": [
    "# Introducción"
   ]
  },
  {
   "cell_type": "markdown",
   "metadata": {},
   "source": [
    "El golpe económico de la crisis sanitaria del corona virus no va a ser cosa de semanas, sino de meses. Dentro de una de las etapas importantes que están a la vuelta de la esquina son las elecciones presidenciales y asambleístas del Ecuador. Para ello se plantea realizar un sistema de regresión que permita identificar cual es la tendencia de los votos en base al manejo de las redes sociales (Twitter y/o Facebook) [1].\n",
    "\n",
    "Las regresiones lineales pueden aprenden por sí mismos y en este caso obtener automáticamente esa “recta” que buscamos con la tendencia de predicción. Para hacerlo se mide el error con respecto a los puntos de entrada y el valor “Y” de salida real [3].\n"
   ]
  },
  {
   "cell_type": "markdown",
   "metadata": {},
   "source": [
    "# Enunciado"
   ]
  },
  {
   "cell_type": "markdown",
   "metadata": {},
   "source": [
    "*\tDiseñe y desarrolle un modelo y/o script que permita simular el siguiente caso real:\n",
    "*\tObtener datos de tendencia de twitter o facebook, para ello se puede obtener a través del API [4].\n",
    "*\tTitle: Titulo del Post/Twitter\n",
    "*\tWord count: la cantidad de palabras del artículo,\n",
    "*\tnumero of Links: los enlaces externos que contiene,\n",
    "*\tnumero of comments: cantidad de comentarios,\n",
    "*\tnumero Shares: compartidos.\n",
    "*\tHashTag\n",
    "*\tEtc.\n"
   ]
  },
  {
   "cell_type": "markdown",
   "metadata": {},
   "source": [
    "## Importamos las librerias"
   ]
  },
  {
   "cell_type": "code",
   "execution_count": 4,
   "metadata": {},
   "outputs": [],
   "source": [
    "import pandas as pd\n",
    "import os\n",
    "import matplotlib.pyplot as plt\n",
    "from facebook_scraper import get_posts\n",
    "import tweepy as tw\n",
    "from tweepy import OAuthHandler\n",
    "import numpy as np\n",
    "import seaborn as sb\n",
    "%matplotlib inline\n",
    "from mpl_toolkits.mplot3d import Axes3D\n",
    "from matplotlib import cm\n",
    "plt.rcParams['figure.figsize'] = (16, 9)\n",
    "plt.style.use('ggplot')\n",
    "from sklearn import linear_model\n",
    "from sklearn.metrics import mean_squared_error, r2_score"
   ]
  },
  {
   "cell_type": "markdown",
   "metadata": {},
   "source": [
    "## Metodo para contar las palabras del post obtenido a nivel de candidatos presidenciales debido a que los datos obtenidos para los asambleistas del azuay son muy pocos los que se pudo obtener."
   ]
  },
  {
   "cell_type": "code",
   "execution_count": 5,
   "metadata": {},
   "outputs": [
    {
     "data": {
      "text/html": [
       "<div>\n",
       "<style scoped>\n",
       "    .dataframe tbody tr th:only-of-type {\n",
       "        vertical-align: middle;\n",
       "    }\n",
       "\n",
       "    .dataframe tbody tr th {\n",
       "        vertical-align: top;\n",
       "    }\n",
       "\n",
       "    .dataframe thead th {\n",
       "        text-align: right;\n",
       "    }\n",
       "</style>\n",
       "<table border=\"1\" class=\"dataframe\">\n",
       "  <thead>\n",
       "    <tr style=\"text-align: right;\">\n",
       "      <th></th>\n",
       "      <th>likes</th>\n",
       "      <th>comments</th>\n",
       "      <th>shares</th>\n",
       "      <th>Word count</th>\n",
       "    </tr>\n",
       "  </thead>\n",
       "  <tbody>\n",
       "    <tr>\n",
       "      <th>count</th>\n",
       "      <td>38.000000</td>\n",
       "      <td>38.000000</td>\n",
       "      <td>38.000000</td>\n",
       "      <td>38.000000</td>\n",
       "    </tr>\n",
       "    <tr>\n",
       "      <th>mean</th>\n",
       "      <td>258.315789</td>\n",
       "      <td>30.736842</td>\n",
       "      <td>5.789474</td>\n",
       "      <td>197.684211</td>\n",
       "    </tr>\n",
       "    <tr>\n",
       "      <th>std</th>\n",
       "      <td>827.583265</td>\n",
       "      <td>80.921278</td>\n",
       "      <td>23.547718</td>\n",
       "      <td>118.371176</td>\n",
       "    </tr>\n",
       "    <tr>\n",
       "      <th>min</th>\n",
       "      <td>9.000000</td>\n",
       "      <td>0.000000</td>\n",
       "      <td>0.000000</td>\n",
       "      <td>0.000000</td>\n",
       "    </tr>\n",
       "    <tr>\n",
       "      <th>25%</th>\n",
       "      <td>13.250000</td>\n",
       "      <td>0.000000</td>\n",
       "      <td>0.000000</td>\n",
       "      <td>125.500000</td>\n",
       "    </tr>\n",
       "    <tr>\n",
       "      <th>50%</th>\n",
       "      <td>19.500000</td>\n",
       "      <td>2.000000</td>\n",
       "      <td>0.000000</td>\n",
       "      <td>189.000000</td>\n",
       "    </tr>\n",
       "    <tr>\n",
       "      <th>75%</th>\n",
       "      <td>83.250000</td>\n",
       "      <td>28.500000</td>\n",
       "      <td>0.000000</td>\n",
       "      <td>257.000000</td>\n",
       "    </tr>\n",
       "    <tr>\n",
       "      <th>max</th>\n",
       "      <td>4797.000000</td>\n",
       "      <td>464.000000</td>\n",
       "      <td>119.000000</td>\n",
       "      <td>540.000000</td>\n",
       "    </tr>\n",
       "  </tbody>\n",
       "</table>\n",
       "</div>"
      ],
      "text/plain": [
       "             likes    comments      shares  Word count\n",
       "count    38.000000   38.000000   38.000000   38.000000\n",
       "mean    258.315789   30.736842    5.789474  197.684211\n",
       "std     827.583265   80.921278   23.547718  118.371176\n",
       "min       9.000000    0.000000    0.000000    0.000000\n",
       "25%      13.250000    0.000000    0.000000  125.500000\n",
       "50%      19.500000    2.000000    0.000000  189.000000\n",
       "75%      83.250000   28.500000    0.000000  257.000000\n",
       "max    4797.000000  464.000000  119.000000  540.000000"
      ]
     },
     "execution_count": 5,
     "metadata": {},
     "output_type": "execute_result"
    }
   ],
   "source": [
    "def contador(post):\n",
    "    cont=0\n",
    "    for char in post:        \n",
    "            cont+=1\n",
    "    return cont\n",
    "publi = [] \n",
    "# Obtenemos la información de las publicaciones\n",
    "for post in get_posts('PaulErnestoCarrascoC', pages=10):\n",
    "        post['Word count'] = len(post['text'])\n",
    "        publi.append(post)          \n",
    "facebook_posts = pd.DataFrame(publi)\n",
    "facebook_posts.describe()"
   ]
  },
  {
   "cell_type": "code",
   "execution_count": 6,
   "metadata": {},
   "outputs": [],
   "source": [
    "posts = []\n",
    "for post in get_posts('LassoGuillermo', pages=10):\n",
    "    post['numWord']=contador(post['text'])\n",
    "    posts.append(post)\n",
    "for post in get_posts('PaulErnestoCarrascoC', pages=10):\n",
    "    post['numWord']=contador(post['text'])    \n",
    "    posts.append(post)    \n",
    "fb_posts = pd.DataFrame(posts)"
   ]
  },
  {
   "cell_type": "code",
   "execution_count": 7,
   "metadata": {},
   "outputs": [
    {
     "data": {
      "text/html": [
       "<div>\n",
       "<style scoped>\n",
       "    .dataframe tbody tr th:only-of-type {\n",
       "        vertical-align: middle;\n",
       "    }\n",
       "\n",
       "    .dataframe tbody tr th {\n",
       "        vertical-align: top;\n",
       "    }\n",
       "\n",
       "    .dataframe thead th {\n",
       "        text-align: right;\n",
       "    }\n",
       "</style>\n",
       "<table border=\"1\" class=\"dataframe\">\n",
       "  <thead>\n",
       "    <tr style=\"text-align: right;\">\n",
       "      <th></th>\n",
       "      <th>likes</th>\n",
       "      <th>comments</th>\n",
       "      <th>shares</th>\n",
       "      <th>numWord</th>\n",
       "    </tr>\n",
       "  </thead>\n",
       "  <tbody>\n",
       "    <tr>\n",
       "      <th>count</th>\n",
       "      <td>76.000000</td>\n",
       "      <td>76.000000</td>\n",
       "      <td>76.000000</td>\n",
       "      <td>76.000000</td>\n",
       "    </tr>\n",
       "    <tr>\n",
       "      <th>mean</th>\n",
       "      <td>981.302632</td>\n",
       "      <td>167.355263</td>\n",
       "      <td>7.815789</td>\n",
       "      <td>208.328947</td>\n",
       "    </tr>\n",
       "    <tr>\n",
       "      <th>std</th>\n",
       "      <td>1144.277950</td>\n",
       "      <td>248.508119</td>\n",
       "      <td>42.350509</td>\n",
       "      <td>114.611039</td>\n",
       "    </tr>\n",
       "    <tr>\n",
       "      <th>min</th>\n",
       "      <td>9.000000</td>\n",
       "      <td>0.000000</td>\n",
       "      <td>0.000000</td>\n",
       "      <td>0.000000</td>\n",
       "    </tr>\n",
       "    <tr>\n",
       "      <th>25%</th>\n",
       "      <td>19.750000</td>\n",
       "      <td>2.000000</td>\n",
       "      <td>0.000000</td>\n",
       "      <td>118.000000</td>\n",
       "    </tr>\n",
       "    <tr>\n",
       "      <th>50%</th>\n",
       "      <td>509.000000</td>\n",
       "      <td>70.000000</td>\n",
       "      <td>0.000000</td>\n",
       "      <td>192.000000</td>\n",
       "    </tr>\n",
       "    <tr>\n",
       "      <th>75%</th>\n",
       "      <td>1765.500000</td>\n",
       "      <td>205.750000</td>\n",
       "      <td>0.000000</td>\n",
       "      <td>270.750000</td>\n",
       "    </tr>\n",
       "    <tr>\n",
       "      <th>max</th>\n",
       "      <td>4934.000000</td>\n",
       "      <td>1340.000000</td>\n",
       "      <td>341.000000</td>\n",
       "      <td>540.000000</td>\n",
       "    </tr>\n",
       "  </tbody>\n",
       "</table>\n",
       "</div>"
      ],
      "text/plain": [
       "             likes     comments      shares     numWord\n",
       "count    76.000000    76.000000   76.000000   76.000000\n",
       "mean    981.302632   167.355263    7.815789  208.328947\n",
       "std    1144.277950   248.508119   42.350509  114.611039\n",
       "min       9.000000     0.000000    0.000000    0.000000\n",
       "25%      19.750000     2.000000    0.000000  118.000000\n",
       "50%     509.000000    70.000000    0.000000  192.000000\n",
       "75%    1765.500000   205.750000    0.000000  270.750000\n",
       "max    4934.000000  1340.000000  341.000000  540.000000"
      ]
     },
     "execution_count": 7,
     "metadata": {},
     "output_type": "execute_result"
    }
   ],
   "source": [
    "file = open(\"shares.txt\",\"w\") \n",
    "for like in fb_posts['shares']:\n",
    "    file.write(str(like)+'\\n')\n",
    "file.close()\n",
    "fb_posts.describe()"
   ]
  },
  {
   "cell_type": "code",
   "execution_count": 8,
   "metadata": {},
   "outputs": [
    {
     "data": {
      "text/html": [
       "<div>\n",
       "<style scoped>\n",
       "    .dataframe tbody tr th:only-of-type {\n",
       "        vertical-align: middle;\n",
       "    }\n",
       "\n",
       "    .dataframe tbody tr th {\n",
       "        vertical-align: top;\n",
       "    }\n",
       "\n",
       "    .dataframe thead th {\n",
       "        text-align: right;\n",
       "    }\n",
       "</style>\n",
       "<table border=\"1\" class=\"dataframe\">\n",
       "  <thead>\n",
       "    <tr style=\"text-align: right;\">\n",
       "      <th></th>\n",
       "      <th>post_id</th>\n",
       "      <th>text</th>\n",
       "      <th>post_text</th>\n",
       "      <th>shared_text</th>\n",
       "      <th>time</th>\n",
       "      <th>image</th>\n",
       "      <th>video</th>\n",
       "      <th>video_thumbnail</th>\n",
       "      <th>video_id</th>\n",
       "      <th>likes</th>\n",
       "      <th>comments</th>\n",
       "      <th>shares</th>\n",
       "      <th>post_url</th>\n",
       "      <th>link</th>\n",
       "      <th>user_id</th>\n",
       "      <th>images</th>\n",
       "      <th>numWord</th>\n",
       "    </tr>\n",
       "  </thead>\n",
       "  <tbody>\n",
       "    <tr>\n",
       "      <th>0</th>\n",
       "      <td>4845903942117477</td>\n",
       "      <td>El Ecuador está listo para el CAMBIO 💪🏼.\\n\\nEn...</td>\n",
       "      <td>El Ecuador está listo para el CAMBIO 💪🏼.\\n\\nEn...</td>\n",
       "      <td></td>\n",
       "      <td>2020-12-20 19:12:15</td>\n",
       "      <td>https://scontent-lim1-1.xx.fbcdn.net/v/t1.0-9/...</td>\n",
       "      <td>None</td>\n",
       "      <td>None</td>\n",
       "      <td>None</td>\n",
       "      <td>1543</td>\n",
       "      <td>135</td>\n",
       "      <td>0</td>\n",
       "      <td>https://facebook.com/story.php?story_fbid=4845...</td>\n",
       "      <td>None</td>\n",
       "      <td>401049006603015</td>\n",
       "      <td>[https://scontent-lim1-1.xx.fbcdn.net/v/t1.0-9...</td>\n",
       "      <td>190</td>\n",
       "    </tr>\n",
       "    <tr>\n",
       "      <th>1</th>\n",
       "      <td>4845372462170625</td>\n",
       "      <td>¡Hoy celebramos la cantonización de Sozoranga!...</td>\n",
       "      <td>¡Hoy celebramos la cantonización de Sozoranga!...</td>\n",
       "      <td></td>\n",
       "      <td>2020-12-20 15:47:00</td>\n",
       "      <td>None</td>\n",
       "      <td>None</td>\n",
       "      <td>None</td>\n",
       "      <td>None</td>\n",
       "      <td>446</td>\n",
       "      <td>54</td>\n",
       "      <td>0</td>\n",
       "      <td>https://facebook.com/story.php?story_fbid=4845...</td>\n",
       "      <td>None</td>\n",
       "      <td>401049006603015</td>\n",
       "      <td>[]</td>\n",
       "      <td>224</td>\n",
       "    </tr>\n",
       "    <tr>\n",
       "      <th>2</th>\n",
       "      <td>4844341652273706</td>\n",
       "      <td>Con la salud no se juega. Junto al Dr. Alfredo...</td>\n",
       "      <td>Con la salud no se juega. Junto al Dr. Alfredo...</td>\n",
       "      <td></td>\n",
       "      <td>2020-12-20 10:38:01</td>\n",
       "      <td>None</td>\n",
       "      <td>https://video-lim1-1.xx.fbcdn.net/v/t42.1790-2...</td>\n",
       "      <td>https://scontent-lim1-1.xx.fbcdn.net/v/t15.525...</td>\n",
       "      <td>232917304870895</td>\n",
       "      <td>1069</td>\n",
       "      <td>181</td>\n",
       "      <td>0</td>\n",
       "      <td>https://facebook.com/watch?v=232917304870895</td>\n",
       "      <td>None</td>\n",
       "      <td>401049006603015</td>\n",
       "      <td>[]</td>\n",
       "      <td>118</td>\n",
       "    </tr>\n",
       "    <tr>\n",
       "      <th>3</th>\n",
       "      <td>4841574735883731</td>\n",
       "      <td>¡GRACIAS LOJA!\\n\\nLa alegría por la llegada de...</td>\n",
       "      <td>¡GRACIAS LOJA!\\n\\nLa alegría por la llegada de...</td>\n",
       "      <td></td>\n",
       "      <td>2020-12-19 18:45:41</td>\n",
       "      <td>https://scontent-lim1-1.xx.fbcdn.net/v/t1.0-9/...</td>\n",
       "      <td>None</td>\n",
       "      <td>None</td>\n",
       "      <td>None</td>\n",
       "      <td>2345</td>\n",
       "      <td>239</td>\n",
       "      <td>0</td>\n",
       "      <td>https://facebook.com/story.php?story_fbid=4841...</td>\n",
       "      <td>None</td>\n",
       "      <td>401049006603015</td>\n",
       "      <td>[https://scontent-lim1-1.xx.fbcdn.net/v/t1.0-9...</td>\n",
       "      <td>278</td>\n",
       "    </tr>\n",
       "    <tr>\n",
       "      <th>4</th>\n",
       "      <td>4841197019254836</td>\n",
       "      <td>Con Guido Chiriboga , tenemos la #CapacidadPar...</td>\n",
       "      <td>Con Guido Chiriboga , tenemos la #CapacidadPar...</td>\n",
       "      <td></td>\n",
       "      <td>2020-12-19 16:26:19</td>\n",
       "      <td>None</td>\n",
       "      <td>https://video-lim1-1.xx.fbcdn.net/v/t42.1790-2...</td>\n",
       "      <td>https://scontent-lim1-1.xx.fbcdn.net/v/t15.525...</td>\n",
       "      <td>401847227903830</td>\n",
       "      <td>715</td>\n",
       "      <td>73</td>\n",
       "      <td>0</td>\n",
       "      <td>https://facebook.com/watch?v=401847227903830</td>\n",
       "      <td>None</td>\n",
       "      <td>401049006603015</td>\n",
       "      <td>[]</td>\n",
       "      <td>114</td>\n",
       "    </tr>\n",
       "  </tbody>\n",
       "</table>\n",
       "</div>"
      ],
      "text/plain": [
       "            post_id                                               text  \\\n",
       "0  4845903942117477  El Ecuador está listo para el CAMBIO 💪🏼.\\n\\nEn...   \n",
       "1  4845372462170625  ¡Hoy celebramos la cantonización de Sozoranga!...   \n",
       "2  4844341652273706  Con la salud no se juega. Junto al Dr. Alfredo...   \n",
       "3  4841574735883731  ¡GRACIAS LOJA!\\n\\nLa alegría por la llegada de...   \n",
       "4  4841197019254836  Con Guido Chiriboga , tenemos la #CapacidadPar...   \n",
       "\n",
       "                                           post_text shared_text  \\\n",
       "0  El Ecuador está listo para el CAMBIO 💪🏼.\\n\\nEn...               \n",
       "1  ¡Hoy celebramos la cantonización de Sozoranga!...               \n",
       "2  Con la salud no se juega. Junto al Dr. Alfredo...               \n",
       "3  ¡GRACIAS LOJA!\\n\\nLa alegría por la llegada de...               \n",
       "4  Con Guido Chiriboga , tenemos la #CapacidadPar...               \n",
       "\n",
       "                 time                                              image  \\\n",
       "0 2020-12-20 19:12:15  https://scontent-lim1-1.xx.fbcdn.net/v/t1.0-9/...   \n",
       "1 2020-12-20 15:47:00                                               None   \n",
       "2 2020-12-20 10:38:01                                               None   \n",
       "3 2020-12-19 18:45:41  https://scontent-lim1-1.xx.fbcdn.net/v/t1.0-9/...   \n",
       "4 2020-12-19 16:26:19                                               None   \n",
       "\n",
       "                                               video  \\\n",
       "0                                               None   \n",
       "1                                               None   \n",
       "2  https://video-lim1-1.xx.fbcdn.net/v/t42.1790-2...   \n",
       "3                                               None   \n",
       "4  https://video-lim1-1.xx.fbcdn.net/v/t42.1790-2...   \n",
       "\n",
       "                                     video_thumbnail         video_id  likes  \\\n",
       "0                                               None             None   1543   \n",
       "1                                               None             None    446   \n",
       "2  https://scontent-lim1-1.xx.fbcdn.net/v/t15.525...  232917304870895   1069   \n",
       "3                                               None             None   2345   \n",
       "4  https://scontent-lim1-1.xx.fbcdn.net/v/t15.525...  401847227903830    715   \n",
       "\n",
       "   comments  shares                                           post_url  link  \\\n",
       "0       135       0  https://facebook.com/story.php?story_fbid=4845...  None   \n",
       "1        54       0  https://facebook.com/story.php?story_fbid=4845...  None   \n",
       "2       181       0       https://facebook.com/watch?v=232917304870895  None   \n",
       "3       239       0  https://facebook.com/story.php?story_fbid=4841...  None   \n",
       "4        73       0       https://facebook.com/watch?v=401847227903830  None   \n",
       "\n",
       "           user_id                                             images  numWord  \n",
       "0  401049006603015  [https://scontent-lim1-1.xx.fbcdn.net/v/t1.0-9...      190  \n",
       "1  401049006603015                                                 []      224  \n",
       "2  401049006603015                                                 []      118  \n",
       "3  401049006603015  [https://scontent-lim1-1.xx.fbcdn.net/v/t1.0-9...      278  \n",
       "4  401049006603015                                                 []      114  "
      ]
     },
     "execution_count": 8,
     "metadata": {},
     "output_type": "execute_result"
    }
   ],
   "source": [
    "fb_posts.head()"
   ]
  },
  {
   "cell_type": "code",
   "execution_count": 9,
   "metadata": {},
   "outputs": [
    {
     "data": {
      "image/png": "[encoded data removed]",
      "text/plain": [
       "<Figure size 1152x648 with 4 Axes>"
      ]
     },
     "metadata": {},
     "output_type": "display_data"
    }
   ],
   "source": [
    "fb_posts.drop(['post_id','post_url', 'time'],1).hist(color='green')\n",
    "plt.show()"
   ]
  },
  {
   "cell_type": "markdown",
   "metadata": {},
   "source": [
    "*\tPosteriormente se debe seguir un procesos de votación de eventos discretos que se describe a continuación:\n",
    "*\tTomar los resultados de la regresión para la selección del candidato.\n",
    "*\tSe tiene una tendencia del 90% de personas que realizan el proceso de elección dentro del Ecuador.\n",
    "*\tDentro del procesos se tiene que alrededor del 5% - 10% votan nulo.\n",
    "*\tSolo se va a tener en cuanta las elecciones de los asambleístas por el Azuay.\n",
    "*\tLas personas solo tiene un recinto electoral para realizar el proceso.\n",
    "*\tLas personas solo pueden realizar un proceso de elección por asambleísta del Azuay.\n",
    "*\tLa persona se acerca a la mesa electoral y hacen fila en caso de ser necesario.\n",
    "*\tRealiza el voto en un tiempo aleatorio de un partido especifico.\n",
    "*\tLa persona recibe su certificado votación.\n",
    "*\tLa persona sale del recinto electoral.\n",
    "*\tFinalmente generar una grafica de las personas que votaron y los asambleístas electos.\n"
   ]
  },
  {
   "cell_type": "code",
   "execution_count": null,
   "metadata": {},
   "outputs": [],
   "source": [
    "#Visualizamos la cantidad de palabras contra likes\n",
    "colores=['pink','black']\n",
    "tamanios=[30,60]\n",
    "\n",
    "filtered_data = fb_posts[(fb_posts['numWord'] <= 4000) & (fb_posts['shares'] <= 90000)]\n",
    "\n",
    "f1 = filtered_data['numWord'].values\n",
    "f2 = filtered_data['shares'].values\n",
    "\n",
    "asignar=[]\n",
    "for index, row in filtered_data.iterrows():\n",
    "    if(row['numWord']>200):\n",
    "        asignar.append(colores[0])\n",
    "    else:\n",
    "        asignar.append(colores[1])\n",
    "    \n",
    "plt.scatter(f1, f2, c=asignar, s=tamanios[0])\n",
    "plt.show()"
   ]
  },
  {
   "cell_type": "markdown",
   "metadata": {},
   "source": [
    "# Regresion Lineal"
   ]
  },
  {
   "cell_type": "code",
   "execution_count": 11,
   "metadata": {},
   "outputs": [
    {
     "data": {
      "image/png": "[encoded data removed]",
      "text/plain": [
       "<Figure size 1152x648 with 1 Axes>"
      ]
     },
     "metadata": {},
     "output_type": "display_data"
    }
   ],
   "source": [
    "dataX =filtered_data[[\"numWord\"]]\n",
    "X_train = np.array(dataX)\n",
    "y_train = filtered_data['shares'].values\n",
    " \n",
    "regr = linear_model.LinearRegression()\n",
    "regr.fit(X_train, y_train)\n",
    "y_pred = regr.predict(X_train)\n",
    " \n",
    "plt.scatter(X_train[:,0], y_train,  c=asignar, s=tamanios[0])\n",
    "plt.plot(X_train[:,0], y_pred, color='red', linewidth=3)\n",
    "\n",
    "plt.xlabel('Cantidad de Palabras')\n",
    "plt.ylabel('Compartido en Redes')\n",
    "plt.title('Regresión Lineal')\n",
    "\n",
    "plt.show()"
   ]
  },
  {
   "cell_type": "code",
   "execution_count": 12,
   "metadata": {},
   "outputs": [
    {
     "name": "stdout",
     "output_type": "stream",
     "text": [
      "-94\n"
     ]
    }
   ],
   "source": [
    "y_Dosmil = regr.predict([[2000]])\n",
    "print(int(y_Dosmil))"
   ]
  },
  {
   "cell_type": "markdown",
   "metadata": {},
   "source": [
    "# Regresion multiples variables"
   ]
  },
  {
   "cell_type": "code",
   "execution_count": null,
   "metadata": {},
   "outputs": [],
   "source": [
    "suma = (filtered_data[\"likes\"] + filtered_data['comments'].fillna(0))\n",
    "\n",
    "dataX2 =pd.DataFrame()\n",
    "dataX2[\"numWord\"] = filtered_data[\"numWord\"]\n",
    "dataX2[\"suma\"] = suma\n",
    "XY_train = np.array(dataX2)\n",
    "z_train = filtered_data['shares'].values"
   ]
  },
  {
   "cell_type": "code",
   "execution_count": null,
   "metadata": {},
   "outputs": [],
   "source": [
    "regr2 = linear_model.LinearRegression()\n",
    "regr2.fit(XY_train, z_train)\n",
    "z_pred = regr2.predict(XY_train)\n",
    "print('Coefficients: \\n', regr2.coef_)\n",
    "print(\"Mean squared error: %.2f\" % mean_squared_error(z_train, z_pred))\n",
    "print('Variance score: %.2f' % r2_score(z_train, z_pred))"
   ]
  },
  {
   "cell_type": "code",
   "execution_count": null,
   "metadata": {},
   "outputs": [],
   "source": [
    "fig = plt.figure(figsize=(10,10))\n",
    "ax = Axes3D(fig)\n",
    "xx, yy = np.meshgrid(np.linspace(0, 3500, num=10), np.linspace(0, 60, num=10))\n",
    "nuevoX = (regr2.coef_[0] * xx)\n",
    "nuevoY = (regr2.coef_[1] * yy) \n",
    "z = (nuevoX + nuevoY + regr2.intercept_)\n",
    "ax.plot_surface(xx, yy, z, alpha=0.2, cmap='GnBu',)\n",
    "#Graficos 3d\n",
    "ax.scatter(XY_train[:, 0], XY_train[:, 1], z_train, c='pink',s=30)\n",
    "ax.scatter(XY_train[:, 0], XY_train[:, 1], z_pred, c='black',s=40)\n",
    " \n",
    "# con esto situamos la \"camara\" con la que visualizamos\n",
    "ax.view_init(elev=30., azim=65)\n",
    "        \n",
    "ax.set_xlabel('Total de Palabras')\n",
    "ax.set_ylabel('Total de imagenes, comentarios y fotos')\n",
    "ax.set_zlabel('Shared')\n",
    "ax.set_title('Regresión Lineal')\n",
    "plt.show()"
   ]
  },
  {
   "cell_type": "code",
   "execution_count": null,
   "metadata": {},
   "outputs": [],
   "source": [
    "z_Dosmil = regr2.predict([[2000, 10+4+6]])\n",
    "print(int(z_Dosmil))"
   ]
  },
  {
   "cell_type": "markdown",
   "metadata": {},
   "source": [
    "# Simulacion\n",
    "\n",
    "## Elecciones de asambleístas del Azuay \n",
    "\n",
    "*\tSe debe establecer un modelo basado en modelos matemáticos y probabilísticos para la predicción del numero de veces que se compartirá o la tendencia electoral basada en redes sociales.\n",
    "*\tEl programa deberá generar gráficas que indiquen la ecuación matemática y probabilística de tendencias de votaciones.\n",
    "*\tDeben calcularse las siguientes métricas del sistema de simulación de eventos discretos :\n",
    "*\tTotal de de personas que realizaron el proceso de votación.\n",
    "*\tAsambleístas ganadores.\n",
    "*\tEl tiempo promedio de espera."
   ]
  },
  {
   "cell_type": "code",
   "execution_count": null,
   "metadata": {},
   "outputs": [],
   "source": [
    "import random\n",
    "\n",
    "random.seed(1)\n",
    "lasso_digits = [0, 0, 0, 0, 0, 0, 0, 0, 0, 0]\n",
    "carrasco_digits = [0, 0, 0, 0, 0, 0, 0, 0, 0, 0]\n",
    "lasso_win_pct = 69.13\n",
    "carrasco_win_pct = 29.28\n",
    "number_of_sims = 1000\n",
    "total_wards = 0\n",
    "total_carrasco_votes = 0\n",
    "total_lasso_votes = 0\n",
    "total_votes = 0\n",
    "for i in range(number_of_sims):\n",
    "    my_input = open('shares.txt')\n",
    "    for line in my_input:\n",
    "        total_wards += 1\n",
    "        fields = line.strip().split()\n",
    "        num_voters = int(fields[0])\n",
    "        carrasco_votes_in_ward = 0\n",
    "        lasso_votes_in_ward = 0\n",
    "        for j in range(num_voters):\n",
    "            random_num = random.random() * 100\n",
    "            if random_num <= lasso_win_pct:\n",
    "                lasso_votes_in_ward += 1\n",
    "                total_lasso_votes += 1\n",
    "            elif random_num <= (lasso_win_pct + carrasco_win_pct) :\n",
    "                carrasco_votes_in_ward += 1\n",
    "                total_carrasco_votes += 1\n",
    "            total_votes += 1\n",
    "        carrasco_digit = int(str(carrasco_votes_in_ward)[0])\n",
    "        lasso_digit = int(str(lasso_votes_in_ward)[0])\n",
    "        carrasco_digits[carrasco_digit] += 1\n",
    "        lasso_digits[lasso_digit] += 1\n",
    "    if i % 100 == 0:\n",
    "        print('Simulacion con ', i)\n",
    "\n",
    "carrasco_win_pct = 100.0 * total_carrasco_votes / total_votes\n",
    "lasso_win_pct = 100.0 * total_lasso_votes / total_votes\n",
    "print('Laso total:', carrasco_win_pct , '%')\n",
    "print('Carrasco total:', lasso_win_pct, '%')"
   ]
  },
  {
   "cell_type": "markdown",
   "metadata": {},
   "source": [
    "# Referencias "
   ]
  },
  {
   "cell_type": "markdown",
   "metadata": {},
   "source": [
    "[1]: https://www.ncbi.nlm.nih.gov/pmc/articles/PMC6291769/\n",
    "[2]: https://www.aprendemachinelearning.com/regresion-lineal-en-espanol-con-python/\n",
    "[3]: https://eprints.ucm.es/48804/1/TFM%20Manuel%20Alejandro%20Rodriguez%20Santana.pdf\n",
    "[4]: http://opac.pucv.cl/pucv_txt/txt-8000/UCC8094_01.pdf"
   ]
  }
 ],
 "metadata": {
  "kernelspec": {
   "display_name": "Python 3",
   "language": "python",
   "name": "python3"
  },
  "language_info": {
   "codemirror_mode": {
    "name": "ipython",
    "version": 3
   },
   "file_extension": ".py",
   "mimetype": "text/x-python",
   "name": "python",
   "nbconvert_exporter": "python",
   "pygments_lexer": "ipython3",
   "version": "3.8.3"
  }
 },
 "nbformat": 4,
 "nbformat_minor": 4
}
